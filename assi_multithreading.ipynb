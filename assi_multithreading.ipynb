
    "Q1. What is multithreading in python? Why is it used? Name the module used to handle threads in python\n",
    "'''\n",
    "multithreading :\n",
    "    Multithreading in Python refers to the ability of a program to execute multiple threads \n",
    "    (smaller units of a process) concurrently. Each thread runs independently, performing its \n",
    "    designated task while sharing the same memory space as other threads within the same process.\n",
    "    \n",
    "use of multithreading :\n",
    "    Multithreading is used in various scenarios to improve the performance and responsiveness of applications.\n",
    "    \n",
    "1.I/O-Bound Operations.\n",
    "2.GUI Applications.\n",
    "3.Web Scraping and Crawling.\n",
    "4.Server Applications.\n",
    "\n",
    "module used to handle the threading ::\n",
    "\n",
    "threading module is used to handle threading \n"
   ]
  },
  {
   "cell_type": "code",
   "execution_count": null,
   "id": "844e8174-288c-4346-b756-84b46af9d858",
   "metadata": {},
   "outputs": [],
   "source": [
    "'''\n",
    "Q2. why threading module used? Write the use of the following functions ?.\n",
    "( activeCount\n",
    " currentThread\n",
    " enumerate)\n",
    " '''\n",
    "\n",
    "The threading module :\n",
    "    in Python is used to create and manage threads.\n",
    "    It provides a high-level interface for working with threads, allowing\n",
    "    developers to perform concurrent tasks easily.\n",
    "    \n",
    "activeCount:\n",
    "\n",
    "activeCount() returns the number of currently active threads in the current program,\n",
    "including the main thread. An active thread is a thread that has been started but has \n",
    "not yet finished executing its target function or code.\n",
    "\n",
    "currentThread:\n",
    "\n",
    "currentThread() returns the current thread object, representing the thread from which it is called.\n",
    "\n",
    "enumerate:\n",
    "\n",
    "enumerate() returns a list of all active Thread objects in the current program, including the main thread.\n"
   ]
  },
  {
   "cell_type": "code",
   "execution_count": null,
   "id": "71e0444e-7a68-4a6d-b7ef-3c51d361613e",
   "metadata": {},
   "outputs": [],
   "source": [
    "'''\n",
    "Q3. Explain the following functions\n",
    "( run\n",
    " start\n",
    " join\n",
    "' isAlive) in the multithreading \n",
    "'''\n",
    "run:\n",
    "    The run() method is used to define the task that a thread should perform. It is typically\n",
    "    overridden in a custom thread class.\n",
    "\n",
    "\n",
    "start:\n",
    "    The start() method is used to begin the execution of a thread by creating a new operating system-level\n",
    "    thread and calling its run() method.\n",
    "\n",
    "\n",
    "join:\n",
    "    The join() method is used to wait for a thread to complete its execution before the main thread continues.\n",
    "\n",
    "isAlive:\n",
    "    The isAlive() method is used to check if a thread is currently running or active."
   ]
  },
  {
   "cell_type": "code",
   "execution_count": 1,
   "id": "ece27436-f03e-41ab-9ea8-3ec86e338b41",
   "metadata": {},
   "outputs": [
    {
     "name": "stdout",
     "output_type": "stream",
     "text": [
      "List of Squares: [1, 4, 9, 16, 25]\n",
      "List of Cubes: [1, 8, 27, 64, 125]\n"
     ]
    }
   ],
   "source": [
    "'''\n",
    "Q4.Write a python program to create two threads. Thread one must print the list of squares and thread\n",
    "two must print the list of cubes\n",
    "'''\n",
    "import threading\n",
    "\n",
    "numbers = [1, 2, 3, 4, 5]\n",
    "\n",
    "square_thread = threading.Thread(target=lambda: print(\"List of Squares:\", [num ** 2 for num in numbers]))\n",
    "cube_thread = threading.Thread(target=lambda: print(\"List of Cubes:\", [num ** 3 for num in numbers]))\n",
    "\n",
    "square_thread.start()\n",
    "cube_thread.start()\n",
    "\n",
    "square_thread.join()\n",
    "cube_thread.join()\n"
   ]
  },
  {
   "cell_type": "code",
   "execution_count": null,
   "id": "213ac265-ab82-4543-ba88-3c6893ffe9ad",
   "metadata": {},
   "outputs": [],
   "source": [
    "'''\n",
    "Q5. State advantages and disadvantages of multithreading\n",
    "'''\n",
    "Advantages of Multithreading:\n",
    "\n",
    "    1.Improved responsiveness and user experience.\n",
    "    2.Efficient for I/O-bound tasks, reducing waiting time.\n",
    "    3.Resource sharing and communication between threads.\n",
    "    4.Better utilization of multi-core processors for CPU-bound tasks\n",
    "\n",
    "Disadvantages of Multithreading:\n",
    "    1.Debugging and testing challenges due to non-deterministic behavior.\n",
    "    2.Overhead in memory and system resources.\n",
    "    3.Global Interpreter Lock (GIL) in Python limits true parallelism for CPU-bound tasks.\n",
    "    4.Increased code complexity and design considerations."
   ]
  },
  {
   "cell_type": "code",
   "execution_count": null,
   "id": "7b1df621-86a2-45fb-b0d7-905e1ab4d854",
   "metadata": {},
   "outputs": [],
   "source": [
    "'''\n",
    "Q6. Explain deadlocks and race conditions.\n",
    "'''\n",
    "\n",
    "Deadlock:\n",
    "        A deadlock occurs when multiple threads are unable to proceed because each is \n",
    "        waiting for a resource held by another, resulting in a standstill and unresponsiveness.\n",
    "\n",
    "Race Condition:\n",
    "        A race condition arises when multiple threads access shared resources without \n",
    "        proper synchronization, leading to unpredictable and undesired outcomes, such \n",
    "        as data corruption or incorrect results."
   ]
  }
 ],
 "metadata": {
  "kernelspec": {
   "display_name": "Python 3 (ipykernel)",
   "language": "python",
   "name": "python3"
  },
  "language_info": {
   "codemirror_mode": {
    "name": "ipython",
    "version": 3
   },
   "file_extension": ".py",
   "mimetype": "text/x-python",
   "name": "python",
   "nbconvert_exporter": "python",
   "pygments_lexer": "ipython3",
   "version": "3.10.8"
  }
 },
 "nbformat": 4,
 "nbformat_minor": 5
}
